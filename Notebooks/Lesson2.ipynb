{
 "cells": [
  {
   "attachments": {},
   "cell_type": "markdown",
   "metadata": {
    "dotnet_interactive": {
     "language": "pwsh"
    },
    "polyglot_notebook": {
     "kernelName": "pwsh"
    }
   },
   "source": [
    "# Lesson 2 - Keeping in Sync\n",
    "\n",
    "## New Terms\n",
    "- **Remote** - Somewhere code is stored, not on your machine. In this case a GitHub Repo.\n",
    "    - **Origin** - When we clone a repo the source of that clone is added as this remote location.\n",
    "    - **Upstream** - What we are naming the remote location of the original repo we forked.\n",
    "- **Fetch** - Git command to retrieve new work from an upstream.\n",
    "- **Merge** - Used to combine the fetched changes with your local work.\n",
    "- **Pull** - Fetch & Merge in one go.\n",
    "- **Push** - Upload your local changes to a remote repo.\n",
    "\n",
    "## Prerequisites\n",
    "- Have a repo cloned to your computer - [Lesson 1](Lesson1.ipynb)\n",
    "\n",
    "## Lesson\n",
    "\n",
    "### Stage 1 - Setting up a remote Upstream\n",
    "1. Navigate to your repo if you're not already there"
   ]
  },
  {
   "cell_type": "code",
   "execution_count": null,
   "metadata": {
    "dotnet_interactive": {
     "language": "pwsh"
    },
    "polyglot_notebook": {
     "kernelName": "pwsh"
    },
    "vscode": {
     "languageId": "polyglot-notebook"
    }
   },
   "outputs": [],
   "source": [
    "Set-Location C:\\GitHub\\GitDemo"
   ]
  },
  {
   "attachments": {},
   "cell_type": "markdown",
   "metadata": {
    "dotnet_interactive": {
     "language": "pwsh"
    },
    "polyglot_notebook": {
     "kernelName": "pwsh"
    }
   },
   "source": [
    "2. View current remote"
   ]
  },
  {
   "cell_type": "code",
   "execution_count": null,
   "metadata": {
    "dotnet_interactive": {
     "language": "pwsh"
    },
    "polyglot_notebook": {
     "kernelName": "pwsh"
    },
    "vscode": {
     "languageId": "polyglot-notebook"
    }
   },
   "outputs": [],
   "source": [
    "git remote -v"
   ]
  },
  {
   "attachments": {},
   "cell_type": "markdown",
   "metadata": {
    "dotnet_interactive": {
     "language": "pwsh"
    },
    "polyglot_notebook": {
     "kernelName": "pwsh"
    }
   },
   "source": [
    "You should see the origin, which was added when you cloned the repo.\n",
    "\n",
    "```\n",
    "    origin  https://github.com/<<USERNAME>>/GitDemo.git (fetch)\n",
    "    origin  https://github.com/<<USERNAME>>/GitDemo.git (push)\n",
    "```\n",
    "\n",
    "3. Add remote named 'upstream' to refer to the original repo that we forked & cloned (someone elses code)."
   ]
  },
  {
   "cell_type": "code",
   "execution_count": null,
   "metadata": {
    "dotnet_interactive": {
     "language": "pwsh"
    },
    "polyglot_notebook": {
     "kernelName": "pwsh"
    },
    "vscode": {
     "languageId": "polyglot-notebook"
    }
   },
   "outputs": [],
   "source": [
    "git remote add upstream https://github.com/jpomfret/GitDemo.git"
   ]
  },
  {
   "attachments": {},
   "cell_type": "markdown",
   "metadata": {
    "dotnet_interactive": {
     "language": "pwsh"
    },
    "polyglot_notebook": {
     "kernelName": "pwsh"
    }
   },
   "source": [
    "4. View remotes again"
   ]
  },
  {
   "cell_type": "code",
   "execution_count": null,
   "metadata": {
    "dotnet_interactive": {
     "language": "pwsh"
    },
    "polyglot_notebook": {
     "kernelName": "pwsh"
    },
    "vscode": {
     "languageId": "polyglot-notebook"
    }
   },
   "outputs": [],
   "source": [
    "git remote -v"
   ]
  },
  {
   "attachments": {},
   "cell_type": "markdown",
   "metadata": {
    "dotnet_interactive": {
     "language": "pwsh"
    },
    "polyglot_notebook": {
     "kernelName": "pwsh"
    }
   },
   "source": [
    "\n",
    "You should now see the origin and upstream.\n",
    "\n",
    "```\n",
    "    origin  https://github.com/<<USERNAME>>/GitDemo.git (fetch)\n",
    "    origin  https://github.com/<<USERNAME>>/GitDemo.git (push)\n",
    "    upstream        https://github.com/jpomfret/GitDemo.git (fetch)\n",
    "    upstream        https://github.com/jpomfret/GitDemo.git (push)\n",
    "```\n",
    "\n",
    "### Stage 2 - 'This branch is 2 commits behind jpomfret:master'\n",
    "Folks have been working on the jpomfret code base and it's now got newer code than your fork.\n",
    "\n",
    "1. Pull changes from upstream into your clone (master branch in this example)"
   ]
  },
  {
   "cell_type": "code",
   "execution_count": null,
   "metadata": {
    "dotnet_interactive": {
     "language": "pwsh"
    },
    "polyglot_notebook": {
     "kernelName": "pwsh"
    },
    "vscode": {
     "languageId": "polyglot-notebook"
    }
   },
   "outputs": [],
   "source": [
    "git pull upstream master"
   ]
  },
  {
   "attachments": {},
   "cell_type": "markdown",
   "metadata": {
    "dotnet_interactive": {
     "language": "pwsh"
    },
    "polyglot_notebook": {
     "kernelName": "pwsh"
    }
   },
   "source": [
    "2. Push changes to your fork"
   ]
  },
  {
   "cell_type": "code",
   "execution_count": null,
   "metadata": {
    "dotnet_interactive": {
     "language": "pwsh"
    },
    "polyglot_notebook": {
     "kernelName": "pwsh"
    },
    "vscode": {
     "languageId": "polyglot-notebook"
    }
   },
   "outputs": [],
   "source": [
    "git push"
   ]
  },
  {
   "attachments": {},
   "cell_type": "markdown",
   "metadata": {
    "dotnet_interactive": {
     "language": "pwsh"
    },
    "polyglot_notebook": {
     "kernelName": "pwsh"
    }
   },
   "source": [
    "\n",
    "3. Check GitHub - your fork should now show you're back in sync.\n",
    "    > This Branch is even with jpomfret:master.\n",
    "\n",
    "4. Bye, Bye, Bye. - We're now NSync :D.\n",
    "\n",
    "## Next Up...\n",
    "\n",
    "- [Lesson 3](Lesson3.ipynb)"
   ]
  }
 ],
 "metadata": {
  "kernelspec": {
   "display_name": ".NET (C#)",
   "language": "C#",
   "name": ".net-csharp"
  },
  "polyglot_notebook": {
   "kernelInfo": {
    "defaultKernelName": "csharp",
    "items": [
     {
      "aliases": [
       "c#",
       "C#"
      ],
      "languageName": "C#",
      "name": "csharp"
     },
     {
      "aliases": [
       "frontend"
      ],
      "name": "vscode"
     },
     {
      "aliases": [],
      "name": ".NET"
     },
     {
      "aliases": [
       "f#",
       "F#"
      ],
      "languageName": "F#",
      "name": "fsharp"
     },
     {
      "aliases": [],
      "languageName": "HTML",
      "name": "html"
     },
     {
      "aliases": [],
      "languageName": "KQL",
      "name": "kql"
     },
     {
      "aliases": [],
      "languageName": "Mermaid",
      "name": "mermaid"
     },
     {
      "aliases": [
       "powershell"
      ],
      "languageName": "PowerShell",
      "name": "pwsh"
     },
     {
      "aliases": [],
      "languageName": "SQL",
      "name": "sql"
     },
     {
      "aliases": [],
      "name": "value"
     }
    ]
   }
  }
 },
 "nbformat": 4,
 "nbformat_minor": 2
}
